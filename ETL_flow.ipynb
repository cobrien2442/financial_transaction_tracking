{
 "cells": [
  {
   "cell_type": "code",
   "execution_count": 2,
   "id": "cf5f8bfe",
   "metadata": {},
   "outputs": [
    {
     "data": {
      "text/plain": [
       "<function TextIOWrapper.close()>"
      ]
     },
     "execution_count": 2,
     "metadata": {},
     "output_type": "execute_result"
    }
   ],
   "source": [
    "import json\n",
    "import pandas as pd\n",
    "from matplotlib import pyplot as plt\n",
    "import seaborn as sns\n",
    "from datetime import datetime\n",
    "fileObject = open(r\"stor_/exData.txt\",\"r+\")\n",
    "exData = fileObject.read()\n",
    "fileObject.close\n",
    "fileObject2 = open(r\"stor_/exEmail.txt\",\"r+\")\n",
    "exEmail = fileObject2.read()\n",
    "fileObject.close"
   ]
  },
  {
   "cell_type": "markdown",
   "id": "e794f820",
   "metadata": {},
   "source": [
    "## Step 1\n",
    "\n",
    "JavaScript searches through email inbox for any signs of an email from bank. If an email meets the criteria found in ...(list js link) the code will pull the following:\n",
    "\n",
    "* Plain text of email body as shown below\n",
    "* date of last deposit"
   ]
  },
  {
   "cell_type": "code",
   "execution_count": 3,
   "id": "4ce26ea9",
   "metadata": {},
   "outputs": [
    {
     "data": {
      "text/plain": [
       "\"[image: Wells Fargo Home]\\n*A card purchase exceeded your preset amount * \\nYou asked us to let you know whenever your Wells Fargo Debit Card is used \\nto make a purchase that exceeds $0.\\n*Card* ending in 8083 \\n*Purchase amount* 4.97 USD \\n*Merchant details* at CVS/PHARMACY #02 02756--2 in Broomall UNITED STATES \\n*Date* 11/22/2023 12:06 PM US/Pacific \\nFor transaction details and your current balance, sign on \\n<https://www.wellsfargo.com> and select this account. To modify or cancel \\nyour alerts, please go to Manage Alerts \\n<https://connect.secure.wellsfargo.com/auth/login/present?origin=cob&loginMode=jukePassword&serviceType=setUpAndModifyAlerts&LOB=CONS>\\n.\\nIf you don't recognize this transaction, please call Wells Fargo customer \\nservice immediately at 1-800-869-3557, 24 hours a day, 7 days a week.\\n*wellsfargo.com* <https://www.wellsfargo.com> | Security Center \\n<https://www.wellsfargo.com/privacy-security/fraud> | Contact Us \\n<https://www.wellsfargo.com/help/contact-us/>\\n*Please do not reply to this automated email.* \\na31ba576-d2a6-4818-9ccd-e7d2f3f2684a  \""
      ]
     },
     "execution_count": 3,
     "metadata": {},
     "output_type": "execute_result"
    }
   ],
   "source": [
    "exEmail"
   ]
  },
  {
   "cell_type": "code",
   "execution_count": null,
   "id": "fbb89543",
   "metadata": {},
   "outputs": [],
   "source": []
  },
  {
   "cell_type": "code",
   "execution_count": null,
   "id": "d0ba5da9",
   "metadata": {},
   "outputs": [],
   "source": []
  },
  {
   "cell_type": "code",
   "execution_count": null,
   "id": "25f0a87f",
   "metadata": {},
   "outputs": [],
   "source": [
    "# Your JSON string\n",
    "json_string = jawn\n",
    "\n",
    "# Parse the JSON string\n",
    "data = json.loads(json_string)\n",
    "\n",
    "# Extracting purchase amounts and days of the week\n",
    "data_rows = data['ResultSet']['Rows']\n",
    "card_values = [row['Data'][0]['VarCharValue'] for row in data_rows[1:]]\n",
    "purchase_amounts = [float(row['Data'][1]['VarCharValue']) for row in data_rows[1:]]\n",
    "merchant_details = [row['Data'][2]['VarCharValue'] for row in data_rows[1:]]\n",
    "dates = [row['Data'][3]['VarCharValue'] for row in data_rows[1:]]\n",
    "updates = [row['Data'][4]['VarCharValue'] for row in data_rows[1:]]\n",
    "dep_dates = [row['Data'][5]['VarCharValue'] for row in data_rows[1:]]\n",
    "times = [row['Data'][6]['VarCharValue'] for row in data_rows[1:]]\n",
    "cc_pay_values = [float(row['Data'][7]['VarCharValue']) for row in data_rows[1:]]\n",
    "subject_values = [row['Data'][8]['VarCharValue'] for row in data_rows[1:]]\n",
    "purchase_range_values = [row['Data'][9]['VarCharValue'] for row in data_rows[1:]]\n",
    "days_of_week = [row['Data'][-1]['VarCharValue'] for row in data_rows[1:]]\n",
    "\n",
    "\n",
    "# Calculating total purchase amounts for each day\n",
    "daily_totals = {}\n",
    "for day, amount in zip(days_of_week, purchase_amounts):\n",
    "    if day in daily_totals:\n",
    "        daily_totals[day] += amount\n",
    "    else:\n",
    "        daily_totals[day] = amount\n",
    "\n",
    "# Creating the bar chart\n",
    "days = list(daily_totals.keys())\n",
    "totals = list(daily_totals.values())\n",
    "\n",
    "plt.figure(figsize=(10, 6))\n",
    "plt.bar(days, totals, color='skyblue')\n",
    "plt.xlabel('Day of the Week')\n",
    "plt.ylabel('Total Purchase Amount')\n",
    "plt.title('Total Purchase Amount per Day of the Week')\n",
    "plt.xticks(rotation=45)\n",
    "plt.tight_layout()\n",
    "\n",
    "# Show the plot\n",
    "plt.show()"
   ]
  },
  {
   "cell_type": "code",
   "execution_count": null,
   "id": "0ea15e6f",
   "metadata": {},
   "outputs": [],
   "source": [
    "# Create a DataFrame\n",
    "\n",
    "# Map day names to numerical values\n",
    "day_map = {\n",
    "    'Sunday': 0,\n",
    "    'Monday': 1,\n",
    "    'Tuesday': 2,\n",
    "    'Wednesday': 3,\n",
    "    'Thursday': 4,\n",
    "    'Friday': 5,\n",
    "    'Saturday': 6\n",
    "}\n",
    "\n",
    "# Convert days_of_week to numerical values\n",
    "numerical_days = [day_map[day] for day in days_of_week]\n",
    "\n",
    "time_values = [datetime.strptime(time, '%I:%M %p').hour for time in times]\n",
    "\n",
    "# Convert 'dates' to datetime objects\n",
    "date_objects = [datetime.strptime(date, '%m/%d/%Y') for date in dates]\n",
    "\n",
    "data_dict = {\n",
    "    'Card': card_values,\n",
    "    'PurchaseAmount': purchase_amounts,\n",
    "    'Date': date_objects,\n",
    "    'Update': updates,\n",
    "    'DepDate': dep_dates,\n",
    "    'Time': time_values,\n",
    "    'Subject': subject_values,\n",
    "    'PurchRange': purchase_range_values,\n",
    "    'DayOfWeek': numerical_days\n",
    "}\n",
    "\n",
    "df = pd.DataFrame(data_dict)\n",
    "\n",
    "# Count occurrences of each date and create a new column 'DateCount'\n",
    "df['DateCount'] = df['Date'].map(df['Date'].value_counts())\n",
    "df['TimeCount'] = df['Time'].map(df['Time'].value_counts())\n",
    "\n",
    "# Use pairplot to visualize relationships between numerical columns\n",
    "sns.pairplot(df)\n",
    "plt.show()"
   ]
  },
  {
   "cell_type": "code",
   "execution_count": null,
   "id": "cd28ad02",
   "metadata": {},
   "outputs": [],
   "source": [
    "# Your JSON string\n",
    "json_string = jawn\n",
    "\n",
    "# Parse the JSON string\n",
    "data = json.loads(json_string)\n",
    "\n",
    "# Extracting purchase amounts and days of the week\n",
    "data_rows = data['ResultSet']['Rows']\n",
    "card_values = [row['Data'][0]['VarCharValue'] for row in data_rows[1:]]\n",
    "purchase_amounts = [float(row['Data'][1]['VarCharValue']) for row in data_rows[1:]]\n",
    "merchant_details = [row['Data'][2]['VarCharValue'] for row in data_rows[1:]]\n",
    "dates = [row['Data'][3]['VarCharValue'] for row in data_rows[1:]]\n",
    "updates = [row['Data'][4]['VarCharValue'] for row in data_rows[1:]]\n",
    "dep_dates = [row['Data'][5]['VarCharValue'] for row in data_rows[1:]]\n",
    "times = [row['Data'][6]['VarCharValue'] for row in data_rows[1:]]\n",
    "cc_pay_values = [float(row['Data'][7]['VarCharValue']) for row in data_rows[1:]]\n",
    "subject_values = [row['Data'][8]['VarCharValue'] for row in data_rows[1:]]\n",
    "purchase_range_values = [row['Data'][9]['VarCharValue'] for row in data_rows[1:]]\n",
    "days_of_week = [row['Data'][-1]['VarCharValue'] for row in data_rows[1:]]\n",
    "\n",
    "\n",
    "# Calculating total purchase amounts for each day\n",
    "daily_totals = {}\n",
    "for day, amount in zip(days_of_week, purchase_amounts):\n",
    "    if day in daily_totals:\n",
    "        daily_totals[day] += amount\n",
    "    else:\n",
    "        daily_totals[day] = amount\n",
    "\n",
    "days = list(daily_totals.keys())\n",
    "totals = list(daily_totals.values())\n",
    "        \n",
    "#-----------------------------------------------------------------------------\n",
    "time_values = [datetime.strptime(time, '%I:%M %p').hour for time in times]\n",
    "\n",
    "# Convert 'dates' to datetime objects\n",
    "date_objects = [datetime.strptime(date, '%m/%d/%Y') for date in dates]\n",
    "\n",
    "# Convert days_of_week to numerical values\n",
    "#numerical_days = [day_map[day] for day in days_of_week]\n",
    "\n",
    "data_dict = {\n",
    "    'Card': card_values,\n",
    "    'PurchaseAmount': purchase_amounts,\n",
    "    'Date': date_objects,\n",
    "    'Update': updates,\n",
    "    'DepDate': dep_dates,\n",
    "    'Time': time_values,\n",
    "    'Subject': subject_values,\n",
    "    'PurchRange': purchase_range_values,\n",
    "    'DayOfWeek': days_of_week\n",
    "}\n",
    "\n",
    "df = pd.DataFrame(data_dict)\n",
    "\n",
    "# Count occurrences of each date and create a new column 'DateCount'\n",
    "df['DayNumOfTrans'] = df['Date'].map(df['Date'].value_counts())\n",
    "df['TimeCount'] = df['Time'].map(df['Time'].value_counts())\n"
   ]
  },
  {
   "cell_type": "code",
   "execution_count": null,
   "id": "5c248eab",
   "metadata": {},
   "outputs": [],
   "source": [
    "df"
   ]
  },
  {
   "cell_type": "code",
   "execution_count": null,
   "id": "526cb237",
   "metadata": {},
   "outputs": [],
   "source": [
    "sns.boxplot(data=df, y=\"PurchaseAmount\", x=\"DayOfWeek\")"
   ]
  },
  {
   "cell_type": "code",
   "execution_count": null,
   "id": "b40b574f",
   "metadata": {},
   "outputs": [],
   "source": [
    "#plt.figure(figsize=(10, 6))\n",
    "plt.bar(days, totals, color='skyblue')\n",
    "plt.xlabel('Day of the Week')\n",
    "plt.ylabel('Total Purchase Amount')\n",
    "plt.title('Total Purchase Amount per Day of the Week')\n",
    "plt.xticks(rotation=45)\n",
    "plt.tight_layout()\n",
    "\n",
    "# Show the plot\n",
    "plt.show()"
   ]
  },
  {
   "cell_type": "code",
   "execution_count": null,
   "id": "b2454315",
   "metadata": {},
   "outputs": [],
   "source": [
    "import requests\n",
    "import base64"
   ]
  },
  {
   "cell_type": "code",
   "execution_count": null,
   "id": "804b7915",
   "metadata": {},
   "outputs": [],
   "source": [
    "headers = {\"x-api-key\": \"F5dJnnrCHVob3yHIEbGD1s7HaaVTOPd5P4hiJ0ke\"}\n",
    "\n",
    "\n",
    "    \n",
    "response = requests.get(\n",
    "    \"https://1ffccx3cgg.execute-api.us-east-1.amazonaws.com/default/TransactionProcessor_test\",\n",
    "    headers = headers\n",
    "    )\n",
    "\n",
    "print(response)"
   ]
  },
  {
   "cell_type": "code",
   "execution_count": null,
   "id": "b576c2ef",
   "metadata": {},
   "outputs": [],
   "source": []
  }
 ],
 "metadata": {
  "kernelspec": {
   "display_name": "Python 3 (ipykernel)",
   "language": "python",
   "name": "python3"
  },
  "language_info": {
   "codemirror_mode": {
    "name": "ipython",
    "version": 3
   },
   "file_extension": ".py",
   "mimetype": "text/x-python",
   "name": "python",
   "nbconvert_exporter": "python",
   "pygments_lexer": "ipython3",
   "version": "3.9.7"
  }
 },
 "nbformat": 4,
 "nbformat_minor": 5
}
