{
 "cells": [
  {
   "cell_type": "code",
   "execution_count": null,
   "id": "07df2b59",
   "metadata": {},
   "outputs": [],
   "source": [
    "import os\n",
    "from dotenv import load_dotenv\n",
    "import requests\n",
    "import json\n",
    "from matplotlib import pyplot as plt\n",
    "\n",
    "# Load environment variables from .env\n",
    "load_dotenv()\n",
    "\n",
    "# Access the API_KEY\n",
    "api_key = os.getenv(\"API_KEY\")\n",
    "\n",
    "# Your API endpoint URL and payload\n",
    "url = 'https://1ffccx3cgg.execute-api.us-east-1.amazonaws.com/default/TransactionProcessor_test'\n",
    "payload = {\n",
    "    \"queryExecutionId\": \"b27c6acb-b659-40df-abac-781ef585bceb\",\n",
    "    \"depDate\":\"11/17/2023\"\n",
    "          }\n",
    "headers = {\"x-api-key\": api_key}\n",
    "\n",
    "# Make the API call\n",
    "r = requests.get(url, data=json.dumps(payload), headers=headers)\n",
    "\n",
    "# Check the response status\n",
    "if r.status_code == 200:\n",
    "    # Extract JSON data from the response content\n",
    "    response_json = r.json()\n",
    "\n",
    "    # Extracting purchase amounts and days of the week\n",
    "    data_rows = response_json['ResultSet']['Rows']\n",
    "    purchase_amounts = [float(row['Data'][1]['VarCharValue']) for row in data_rows[1:]]\n",
    "    days_of_week = [row['Data'][-1]['VarCharValue'] for row in data_rows[1:]]\n",
    "\n",
    "    # Calculating total purchase amounts for each day\n",
    "    daily_totals = {}\n",
    "    for day, amount in zip(days_of_week, purchase_amounts):\n",
    "        if day in daily_totals:\n",
    "            daily_totals[day] += amount\n",
    "        else:\n",
    "            daily_totals[day] = amount\n",
    "\n",
    "    # Creating the bar chart\n",
    "    days = list(daily_totals.keys())\n",
    "    totals = list(daily_totals.values())\n",
    "\n",
    "    plt.figure(figsize=(10, 6))\n",
    "    plt.bar(days, totals, color='skyblue')\n",
    "    plt.xlabel('Day of the Week')\n",
    "    plt.ylabel('Total Purchase Amount')\n",
    "    plt.title('Total Purchase Amount per Day of the Week')\n",
    "    plt.xticks(rotation=45)\n",
    "    plt.tight_layout()\n",
    "\n",
    "    # Show the plot\n",
    "    plt.show()\n",
    "else:\n",
    "    print(f\"Failed to fetch data. Status code: {r.status_code}\")"
   ]
  },
  {
   "cell_type": "code",
   "execution_count": null,
   "id": "16a9c02b",
   "metadata": {},
   "outputs": [],
   "source": []
  }
 ],
 "metadata": {
  "kernelspec": {
   "display_name": "Python 3 (ipykernel)",
   "language": "python",
   "name": "python3"
  },
  "language_info": {
   "codemirror_mode": {
    "name": "ipython",
    "version": 3
   },
   "file_extension": ".py",
   "mimetype": "text/x-python",
   "name": "python",
   "nbconvert_exporter": "python",
   "pygments_lexer": "ipython3",
   "version": "3.9.7"
  }
 },
 "nbformat": 4,
 "nbformat_minor": 5
}
