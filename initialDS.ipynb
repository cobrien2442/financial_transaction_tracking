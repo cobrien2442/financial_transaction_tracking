{
 "cells": [
  {
   "cell_type": "code",
   "execution_count": 7,
   "id": "b3348bfb",
   "metadata": {},
   "outputs": [
    {
     "name": "stdout",
     "output_type": "stream",
     "text": [
      "Today is 2023-11-26\n"
     ]
    }
   ],
   "source": [
    "from datetime import datetime\n",
    "\n",
    "today = str(datetime.today().date())\n",
    "\n",
    "print(f\"Today is {today}\")"
   ]
  },
  {
   "cell_type": "code",
   "execution_count": 2,
   "id": "28361c80",
   "metadata": {},
   "outputs": [],
   "source": [
    "import os\n",
    "import zipfile\n",
    "import requests\n",
    "import pandas as pd\n",
    "import json\n",
    "import matplotlib.pylab as plt"
   ]
  },
  {
   "cell_type": "code",
   "execution_count": 3,
   "id": "da655284",
   "metadata": {},
   "outputs": [],
   "source": [
    "import warnings\n",
    "\n",
    "warnings.filterwarnings(\"ignore\")"
   ]
  },
  {
   "cell_type": "code",
   "execution_count": 11,
   "id": "8643a824",
   "metadata": {},
   "outputs": [
    {
     "name": "stdout",
     "output_type": "stream",
     "text": [
      "b'\"You\\'ve spent $1233.33 of your $1000 allowance. You have $-233.33 left until 12/01/2023. The last transaction took place at GEICO *AUTO in 800-841-3000 UNITED STATES   where you spent $209.14 at 11/25/2023 09:03 AM\"'\n"
     ]
    }
   ],
   "source": [
    "url = 'https://9g1falkc01.execute-api.us-east-1.amazonaws.com/default/TransactionProcessor_step3'\n",
    "payload = {\n",
    "    \"queryExecutionId\": \"b27c6acb-b659-40df-abac-781ef585bceb\",\n",
    "    \"depDate\":\"11/17/2023\"\n",
    "          \n",
    "          }\n",
    "headers = {\"x-api-key\": \"ysWaNxt36v5iGDArFrNX96KB7pouF8fP5Td204rT\"}\n",
    "\n",
    "r = requests.get(url, data=json.dumps(payload), headers=headers)\n",
    "\n",
    "print(f\"{r.content}\")"
   ]
  },
  {
   "cell_type": "code",
   "execution_count": null,
   "id": "07df2b59",
   "metadata": {},
   "outputs": [],
   "source": []
  }
 ],
 "metadata": {
  "kernelspec": {
   "display_name": "Python 3 (ipykernel)",
   "language": "python",
   "name": "python3"
  },
  "language_info": {
   "codemirror_mode": {
    "name": "ipython",
    "version": 3
   },
   "file_extension": ".py",
   "mimetype": "text/x-python",
   "name": "python",
   "nbconvert_exporter": "python",
   "pygments_lexer": "ipython3",
   "version": "3.9.7"
  }
 },
 "nbformat": 4,
 "nbformat_minor": 5
}
